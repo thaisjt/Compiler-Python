{
  "nbformat": 4,
  "nbformat_minor": 0,
  "metadata": {
    "colab": {
      "name": "Importa_arquivos.ipynb",
      "provenance": [],
      "collapsed_sections": [],
      "include_colab_link": true
    },
    "kernelspec": {
      "name": "python3",
      "display_name": "Python 3"
    }
  },
  "cells": [
    {
      "cell_type": "markdown",
      "metadata": {
        "id": "view-in-github",
        "colab_type": "text"
      },
      "source": [
        "<a href=\"https://colab.research.google.com/github/thaisjt/Compiler-Python/blob/master/Importa_arquivos.ipynb\" target=\"_parent\"><img src=\"https://colab.research.google.com/assets/colab-badge.svg\" alt=\"Open In Colab\"/></a>"
      ]
    },
    {
      "cell_type": "code",
      "metadata": {
        "id": "u-kwna69pnhq",
        "colab": {
          "base_uri": "https://localhost:8080/",
          "height": 437
        },
        "outputId": "501e21f0-efe2-42d6-8fc9-55b1a9830713"
      },
      "source": [
        "!pip install pillow\n",
        "!pip install fpdf\n",
        "!pip install pdfrw\n",
        "!pip install PyPDF2"
      ],
      "execution_count": null,
      "outputs": [
        {
          "output_type": "stream",
          "text": [
            "Requirement already satisfied: pillow in /usr/local/lib/python3.6/dist-packages (6.2.2)\n",
            "Collecting fpdf\n",
            "  Downloading https://files.pythonhosted.org/packages/37/c6/608a9e6c172bf9124aa687ec8b9f0e8e5d697d59a5f4fad0e2d5ec2a7556/fpdf-1.7.2.tar.gz\n",
            "Building wheels for collected packages: fpdf\n",
            "  Building wheel for fpdf (setup.py) ... \u001b[?25l\u001b[?25hdone\n",
            "  Created wheel for fpdf: filename=fpdf-1.7.2-py2.py3-none-any.whl size=40722 sha256=8e7eb56d7eec0b80dd17d64f4a74d6336f9facc28aa21a6a4d87213ed3af3550\n",
            "  Stored in directory: /root/.cache/pip/wheels/9a/e9/77/4554ff5c99bc3f487c8d69620d8c41d99d54e9c54ab20ef4c9\n",
            "Successfully built fpdf\n",
            "Installing collected packages: fpdf\n",
            "Successfully installed fpdf-1.7.2\n",
            "Collecting pdfrw\n",
            "\u001b[?25l  Downloading https://files.pythonhosted.org/packages/c0/84/af442c4458756bb0c0d2424102d1200616f3ff9b82c48aaa130e08549bf6/pdfrw-0.4-py2.py3-none-any.whl (69kB)\n",
            "\u001b[K     |████████████████████████████████| 71kB 2.2MB/s \n",
            "\u001b[?25hInstalling collected packages: pdfrw\n",
            "Successfully installed pdfrw-0.4\n",
            "Collecting PyPDF2\n",
            "\u001b[?25l  Downloading https://files.pythonhosted.org/packages/b4/01/68fcc0d43daf4c6bdbc6b33cc3f77bda531c86b174cac56ef0ffdb96faab/PyPDF2-1.26.0.tar.gz (77kB)\n",
            "\u001b[K     |████████████████████████████████| 81kB 2.4MB/s \n",
            "\u001b[?25hBuilding wheels for collected packages: PyPDF2\n",
            "  Building wheel for PyPDF2 (setup.py) ... \u001b[?25l\u001b[?25hdone\n",
            "  Created wheel for PyPDF2: filename=PyPDF2-1.26.0-cp36-none-any.whl size=61085 sha256=df79705fd3b5fc09c2dabb1458d226af04279a3a0315f76cceaaed7677f81bda\n",
            "  Stored in directory: /root/.cache/pip/wheels/53/84/19/35bc977c8bf5f0c23a8a011aa958acd4da4bbd7a229315c1b7\n",
            "Successfully built PyPDF2\n",
            "Installing collected packages: PyPDF2\n",
            "Successfully installed PyPDF2-1.26.0\n"
          ],
          "name": "stdout"
        }
      ]
    },
    {
      "cell_type": "code",
      "metadata": {
        "id": "bCNM3DLLllDK"
      },
      "source": [
        "#importação de bibliotecas\n",
        "\n",
        "import numpy as np\n",
        "import pandas as pd\n",
        "import openpyxl \n",
        "from openpyxl import Workbook, load_workbook\n",
        "import tkinter as tk\n",
        "from tkinter import filedialog\n",
        "from tkinter import *\n",
        "from PIL import Image, ImageDraw\n",
        "import time\n",
        "import datetime\n",
        "from PIL import Image, ImageDraw, ImageFont\n",
        "from PIL import ImageOps\n",
        "from fpdf import FPDF\n",
        "import glob\n",
        "import os\n",
        "from os import listdir\n",
        "from os.path import isfile, join\n",
        "import sys\n",
        "import PyPDF2\n",
        "import math"
      ],
      "execution_count": null,
      "outputs": []
    },
    {
      "cell_type": "code",
      "metadata": {
        "id": "ESPiTsVtzFMU"
      },
      "source": [
        "from PIL import Image\n",
        "from fpdf import FPDF\n",
        "import glob\n",
        "import os\n",
        "import numpy as np\n",
        "import PIL\n",
        "from PIL import Image"
      ],
      "execution_count": null,
      "outputs": []
    },
    {
      "cell_type": "code",
      "metadata": {
        "id": "-oe2CYimmCp0"
      },
      "source": [
        "from google.colab import drive\n",
        "drive.mount('/content/drive')"
      ],
      "execution_count": null,
      "outputs": []
    },
    {
      "cell_type": "code",
      "metadata": {
        "id": "-Ho9snNRplkh",
        "colab": {
          "base_uri": "https://localhost:8080/",
          "height": 34
        },
        "outputId": "736429e1-889b-4913-aeea-a74434e50439"
      },
      "source": [
        "\n",
        "image_directory = '/content/drive/My Drive/bazarpython/Cria_arquivo/'\n",
        "\n",
        "dir = image_directory\n",
        "\n",
        "filelist = [f for f in listdir(dir) if isfile(join(dir, f))]\n",
        "\n",
        "for fichier in filelist[:]: \n",
        "  print(fichier)\n"
      ],
      "execution_count": null,
      "outputs": [
        {
          "output_type": "stream",
          "text": [
            "Pedro.xlsx\n"
          ],
          "name": "stdout"
        }
      ]
    },
    {
      "cell_type": "code",
      "metadata": {
        "id": "1MP-5x6trscx",
        "colab": {
          "base_uri": "https://localhost:8080/",
          "height": 425
        },
        "outputId": "7c4985d9-b1ea-4b8a-c087-3154cf17b9bb"
      },
      "source": [
        "!wget \"https://noto-website-2.storage.googleapis.com/pkgs/NotoSansCJKkr-hinted.zip\"\n",
        "!unzip \"NotoSansCJKkr-hinted.zip\"\n",
        "\n",
        "!mv NotoSansCJKkr-Medium.otf /usr/share/fonts/truetype/\n",
        "\n",
        "path = \"/usr/share/fonts/truetype/NotoSansCJKkr-Medium.otf\"\n",
        "\n",
        "font = ImageFont.truetype(path,20)\n",
        "font_preco = ImageFont.truetype(path,50)"
      ],
      "execution_count": null,
      "outputs": [
        {
          "output_type": "stream",
          "text": [
            "--2019-10-03 13:02:13--  https://noto-website-2.storage.googleapis.com/pkgs/NotoSansCJKkr-hinted.zip\n",
            "Resolving noto-website-2.storage.googleapis.com (noto-website-2.storage.googleapis.com)... 74.125.141.128, 2607:f8b0:400c:c06::80\n",
            "Connecting to noto-website-2.storage.googleapis.com (noto-website-2.storage.googleapis.com)|74.125.141.128|:443... connected.\n",
            "HTTP request sent, awaiting response... 200 OK\n",
            "Length: 121163981 (116M) [application/zip]\n",
            "Saving to: ‘NotoSansCJKkr-hinted.zip.11’\n",
            "\n",
            "NotoSansCJKkr-hinte 100%[===================>] 115.55M   191MB/s    in 0.6s    \n",
            "\n",
            "2019-10-03 13:02:14 (191 MB/s) - ‘NotoSansCJKkr-hinted.zip.11’ saved [121163981/121163981]\n",
            "\n",
            "Archive:  NotoSansCJKkr-hinted.zip\n",
            "replace LICENSE_OFL.txt? [y]es, [n]o, [A]ll, [N]one, [r]ename: A\n",
            "  inflating: LICENSE_OFL.txt         \n",
            "  inflating: NotoSansCJKkr-Black.otf  \n",
            "  inflating: NotoSansCJKkr-Bold.otf  \n",
            "  inflating: NotoSansCJKkr-DemiLight.otf  \n",
            "  inflating: NotoSansCJKkr-Light.otf  \n",
            "  inflating: NotoSansCJKkr-Medium.otf  \n",
            "  inflating: NotoSansCJKkr-Regular.otf  \n",
            "  inflating: NotoSansCJKkr-Thin.otf  \n",
            "  inflating: NotoSansMonoCJKkr-Bold.otf  \n",
            "  inflating: NotoSansMonoCJKkr-Regular.otf  \n",
            "  inflating: README                  \n"
          ],
          "name": "stdout"
        }
      ]
    },
    {
      "cell_type": "markdown",
      "metadata": {
        "id": "c-XLlKfPMrSK"
      },
      "source": [
        "Criação da Fonte -"
      ]
    },
    {
      "cell_type": "code",
      "metadata": {
        "id": "uDJ1tsySsabA"
      },
      "source": [
        "from PIL import ImageFont, ImageDraw  \n",
        "path = \"/usr/share/fonts/truetype/NotoSansCJKkr-Medium.otf\"\n",
        "\n",
        "font = ImageFont.truetype(path,20)\n",
        "font_preco = ImageFont.truetype(path,50)\n"
      ],
      "execution_count": null,
      "outputs": []
    },
    {
      "cell_type": "code",
      "metadata": {
        "id": "FDlX974Dl03K",
        "colab": {
          "base_uri": "https://localhost:8080/",
          "height": 51
        },
        "outputId": "a8c54bee-9438-4620-cbc1-48307b9ebd70"
      },
      "source": [
        "filename = '/content/drive/My Drive/bazarpython/Cria_arquivo/' + 'Pedro.xlsx'\n",
        "planilha = pd.read_excel(filename)\n",
        "x = len(planilha)\n",
        "etiquetas_em_branco = 0\n",
        "while(x%24!=0):\n",
        "  etiquetas_em_branco = etiquetas_em_branco + 1\n",
        "  x = x+1\n",
        "print(etiquetas_em_branco)\n",
        "print(len(planilha) + etiquetas_em_branco)"
      ],
      "execution_count": null,
      "outputs": [
        {
          "output_type": "stream",
          "text": [
            "13\n",
            "24\n"
          ],
          "name": "stdout"
        }
      ]
    },
    {
      "cell_type": "markdown",
      "metadata": {
        "id": "q7QEftFyNS3a"
      },
      "source": [
        "Cria as subpastas necessarias se não tiverem"
      ]
    },
    {
      "cell_type": "code",
      "metadata": {
        "id": "tLdOzSloxfLc",
        "colab": {
          "base_uri": "https://localhost:8080/",
          "height": 85
        },
        "outputId": "f723df64-ab39-4234-ccc3-79aa7d2c1482"
      },
      "source": [
        "image_directory =  '/content/drive/My Drive/bazarpython/Cria_arquivo/'\n",
        "dir = image_directory + './Etiquetas'\n",
        "print(dir)\n",
        "if os.path.isdir(dir):\n",
        "  print('não insere' + dir)\n",
        "else:\n",
        "  os.makedirs(dir)\n",
        "  dir = image_directory \n",
        "  print(dir)\n",
        "  \n",
        "dir = image_directory + './PDF'\n",
        "\n",
        "if os.path.isdir(dir):\n",
        "  print('não insere')\n",
        "else:\n",
        "  os.makedirs(dir)\n",
        "  dir = image_directory \n",
        "  print('insere' + dir)\n",
        "  \n",
        "  \n",
        "dir = image_directory + './Agrupado_Etiquetas'\n",
        "\n",
        "if os.path.isdir(dir):\n",
        "  print('não insere')\n",
        "else:\n",
        "  os.makedirs(dir)\n",
        "  dir = image_directory \n",
        "  print('insere' + 'Agrupado_Etiquetas')"
      ],
      "execution_count": null,
      "outputs": [
        {
          "output_type": "stream",
          "text": [
            "/content/drive/My Drive/bazarpython/Cria_arquivo/./Etiquetas\n",
            "/content/drive/My Drive/bazarpython/Cria_arquivo/\n",
            "insere/content/drive/My Drive/bazarpython/Cria_arquivo/\n",
            "insereAgrupado_Etiquetas\n"
          ],
          "name": "stdout"
        }
      ]
    },
    {
      "cell_type": "markdown",
      "metadata": {
        "id": "YNiTvFt2NmFC"
      },
      "source": [
        "\n",
        "\n",
        "```\n",
        "# Isto` está formatado como código`\n",
        "```\n",
        "\n",
        "Função de adicionar borda em cada imagem"
      ]
    },
    {
      "cell_type": "code",
      "metadata": {
        "id": "pr_C5RFfxopJ"
      },
      "source": [
        "\n",
        "def add_border(input_image, output_image, border, color=0):\n",
        "    img = Image.open(input_image)\n",
        " \n",
        "    if isinstance(border, int) or isinstance(border, tuple):\n",
        "        bimg = ImageOps.expand(img, border=border, fill='black')\n",
        "    else:\n",
        "        raise RuntimeError('Border is not an integer or tuple!')\n",
        " \n",
        "    bimg.save(output_image)\t"
      ],
      "execution_count": null,
      "outputs": []
    },
    {
      "cell_type": "markdown",
      "metadata": {
        "id": "H25J3srqvncr"
      },
      "source": [
        "Aqui ele cria os arquivos a partir da lista do excel. No caso, ele irá criar na pasta bazarpython/cria_arquivo/etiquetas\n"
      ]
    },
    {
      "cell_type": "code",
      "metadata": {
        "id": "Ca0OnOenp8c2",
        "colab": {
          "base_uri": "https://localhost:8080/",
          "height": 34
        },
        "outputId": "2233fd3c-50bd-456e-a9e0-246e6f5e1824"
      },
      "source": [
        "dir = image_directory + 'Etiquetas/'\n",
        "print(dir)\n",
        "for i in planilha.index:\n",
        "  texto = ['Código:' + str(planilha['Codigo'][i])]\n",
        "  texto.append('R$' + str(round((float(planilha['Preço'][i])*1.1),3)))\n",
        "  texto.append(str(planilha['Categoria'][i]) + ' ; ' + str(planilha['Marca'][i]) )\n",
        "  texto.append(str(planilha['Cor'][i]))\n",
        "  if str(planilha['Tamanho'][i]) != '':\t\n",
        "    texto.append('Tamanho: ' + str(planilha['Tamanho'][i]))\n",
        "  texto_2 = (str(planilha['Codigo'][i])+  ': Categoria:' + str(planilha['Categoria'][i])+ ', Marca:'+ str(planilha['Marca'][i]) + ', Preço:' + str(planilha['Preço'][i])\t+ ', Cor:'+ str(planilha['Cor'][i]) + ', Tamanho:'+ str(planilha['Tamanho'][i]) )\n",
        "  tam = 300\n",
        "  img = Image.new('RGBA', (tam, tam), color = 'white')\n",
        "  index  = 10\n",
        "  codigo = (str(planilha['Codigo'][i]))\t\n",
        "  valor = ('R$' +  str(round((float(planilha['Preço'][i])*1.1),3)))\t\t\t\n",
        "  index = 30\n",
        "  d = ImageDraw.Draw(img)\n",
        "  indice_da_lista = 1\n",
        "  for palavra in texto:\t\n",
        "    if len(palavra) < 22:\n",
        "      if indice_da_lista == 1:\n",
        "        #print(indice_da_lista, '1', palavra)\n",
        "        d.text( (80,40) , palavra, font = font, fill=\"black\")\n",
        "      else:\n",
        "        if indice_da_lista == 2:\n",
        "          #print(indice_da_lista, '2', palavra)\n",
        "          d.text( (50,120)  , palavra + '0', font = font_preco, fill=\"black\")\n",
        "        else:\n",
        "          #print(indice_da_lista, 'Não é 1 nem 2', palavra)\n",
        "          d.text( (50,150+index) , palavra, font = font, fill=\"black\")\n",
        "      index = index + 30\n",
        "      indice_da_lista = indice_da_lista + 1\n",
        "  img.save(dir  + str(planilha['Codigo'][i]) + '.png')\n",
        "  in_img = dir  + str(planilha['Codigo'][i]) + '.png'\n",
        "  add_border(in_img, output_image=in_img ,border=10, color='black')\t\n",
        "\n",
        "i = 1\n",
        "while etiquetas_em_branco >= i:\n",
        "  tam = 300\n",
        "  img = Image.new('RGBA', (tam, tam), color = 'white')\n",
        "  index  = 10\n",
        "  index = 30\n",
        "  d = ImageDraw.Draw(img)\n",
        "  indice_da_lista = 1\n",
        "  img.save(dir  + 'etiquetas_em_branco' + str(i) + '.png')\n",
        "  in_img = dir  + 'etiquetas_em_branco' + str(i)  + '.png'\n",
        "  add_border(in_img, output_image=in_img ,border=10, color='black')\t\n",
        "  i = i + 1\n",
        "  \n",
        "  \n",
        "  "
      ],
      "execution_count": null,
      "outputs": [
        {
          "output_type": "stream",
          "text": [
            "/content/drive/My Drive/bazarpython/Cria_arquivo/Etiquetas/\n"
          ],
          "name": "stdout"
        }
      ]
    },
    {
      "cell_type": "markdown",
      "metadata": {
        "id": "q2yL_NzYyRv6"
      },
      "source": [
        "Seleciona as etiquetas da pasta DIR e seta quantos pdfs irá ter"
      ]
    },
    {
      "cell_type": "code",
      "metadata": {
        "id": "dq5AvnypyHnz",
        "colab": {
          "base_uri": "https://localhost:8080/",
          "height": 88
        },
        "outputId": "1b61aff6-2dbd-4468-fdaa-e4a6d11d4731"
      },
      "source": [
        "dir  = '/content/drive/My Drive/bazarpython/Cria_arquivo/Etiquetas/'\n",
        "\n",
        "filelist = [f for f in listdir(dir) if isfile(join(dir, f))]\n",
        "quantidade_arquivos = len(filelist)\n",
        "x = quantidade_arquivos\n",
        "nro_pdfs  = (math.ceil(quantidade_arquivos/24))\n",
        "print(filelist)\n",
        "print(nro_pdfs)\n",
        "etiquetas_em_branco = 0\n",
        "while(x%24!=0):\n",
        "  etiquetas_em_branco = etiquetas_em_branco + 1\n",
        "  x = x+1\n",
        "print(etiquetas_em_branco)\n"
      ],
      "execution_count": null,
      "outputs": [
        {
          "output_type": "stream",
          "text": [
            "['15001.0.png', '15002.0.png', '15003.0.png', '15004.0.png', '15005.0.png', '15006.0.png', '15007.0.png', '15008.0.png', '15009.0.png', '15010.0.png', 'nan.png', 'etiquetas_em_branco1.png', 'etiquetas_em_branco2.png', 'etiquetas_em_branco3.png', 'etiquetas_em_branco4.png', 'etiquetas_em_branco5.png', 'etiquetas_em_branco6.png', 'etiquetas_em_branco7.png', 'etiquetas_em_branco8.png', 'etiquetas_em_branco9.png', 'etiquetas_em_branco10.png', 'etiquetas_em_branco11.png', 'etiquetas_em_branco12.png', 'etiquetas_em_branco13.png']\n",
            "1\n",
            "0\n"
          ],
          "name": "stdout"
        }
      ]
    },
    {
      "cell_type": "markdown",
      "metadata": {
        "id": "vm0K_s6AyVor"
      },
      "source": [
        "Aqui irá criar meu arquivo PNG com todas as imagens agrupadas\n"
      ]
    },
    {
      "cell_type": "code",
      "metadata": {
        "id": "CV1JuVvv3QsO",
        "colab": {
          "base_uri": "https://localhost:8080/",
          "height": 629
        },
        "outputId": "3c38f01f-dd08-46f0-98d3-a5b2cb15aa6e"
      },
      "source": [
        "images = [ PIL.Image.open('/content/drive/My Drive/bazarpython/Cria_arquivo/Etiquetas/' + l) for l in filelist ]\n",
        "filelist_2 = filelist\n",
        "\n",
        "widths, heights = zip(*(i.size for i in images))\n",
        "min = 1\n",
        "max = 24\n",
        "pdf_atual = 1\n",
        "total_width = 0\n",
        "i =1\n",
        "for largura in widths:\n",
        "  if i<=6:\n",
        "    total_width = total_width + largura\n",
        "  i = i+1\n",
        "max_height = 4*320\n",
        "new_im = Image.new('RGB', (total_width, max_height))\n",
        "min = 0\n",
        "max = 24\n",
        "i = nro_pdfs\n",
        "x_offset = 0\n",
        "margin = 20 \n",
        "ant = 6\n",
        "valor_comparativo = 1\n",
        "lista_primeiros_valores = []\n",
        "while valor_comparativo <= i:\n",
        "     lista_primeiros_valores.append((24*valor_comparativo))\n",
        "     valor_comparativo = valor_comparativo +1\n",
        "lista_primeiros_valores.append(24)\n",
        "print('Começou o FOR')\n",
        "while pdf_atual <= i:\n",
        "    if pdf_atual> 1:\n",
        "      print(pdf_atual)\n",
        "      min = min\n",
        "      max = 24 + min\n",
        "    print(min, max)\n",
        "    ls = images[min:max]\n",
        "    min_ant = min\n",
        "    new_im = Image.new('RGB', (total_width, max_height))\n",
        "    for im in ls:\n",
        "      if (min-6)%ant==0 and min!=0:\n",
        "        print(\"É divisível:\" + str(min) + ',' + str(min-6))\n",
        "        print(lista_primeiros_valores)\n",
        "        if (min) not in lista_primeiros_valores:\n",
        "            margin = 320 + margin\n",
        "            x_offset = 0\n",
        "            print('Incluiu')\n",
        "            ant = min\n",
        "        else:\n",
        "            print('altera o anterior',ant+6)\n",
        "            ant = ant+6\n",
        "      new_im.paste(im, (x_offset,margin))\n",
        "      x_offset += im.size[0]\n",
        "      min = min+1\n",
        "      x_offset_2 = 0 \n",
        "      print(min,ant,x_offset,margin)\n",
        "            \n",
        "    nome_arquivo = 'pdf' + str(pdf_atual) + '.png'\n",
        "    margin = 20 \n",
        "    x_offset = 0\n",
        "    new_im.save('/content/drive/My Drive/bazarpython/Cria_arquivo/Agrupado_Etiquetas/' + nome_arquivo)\n",
        "    print('/content/drive/My Drive/bazarpython/Cria_arquivo/Agrupado_Etiquetas/' + nome_arquivo)\n",
        "    pdf_atual = pdf_atual +1\n",
        "    #min = min_ant\n",
        "    #while min <= max:\n",
        "     # min = min+1\n",
        "    \n",
        "    \n",
        "    "
      ],
      "execution_count": null,
      "outputs": [
        {
          "output_type": "stream",
          "text": [
            "Começou o FOR\n",
            "0 24\n",
            "1 6 320 20\n",
            "2 6 640 20\n",
            "3 6 960 20\n",
            "4 6 1280 20\n",
            "5 6 1600 20\n",
            "6 6 1920 20\n",
            "É divisível:6,0\n",
            "[24, 24]\n",
            "Incluiu\n",
            "7 6 320 340\n",
            "8 6 640 340\n",
            "9 6 960 340\n",
            "10 6 1280 340\n",
            "11 6 1600 340\n",
            "12 6 1920 340\n",
            "É divisível:12,6\n",
            "[24, 24]\n",
            "Incluiu\n",
            "13 12 320 660\n",
            "14 12 640 660\n",
            "15 12 960 660\n",
            "16 12 1280 660\n",
            "17 12 1600 660\n",
            "18 12 1920 660\n",
            "É divisível:18,12\n",
            "[24, 24]\n",
            "Incluiu\n",
            "19 18 320 980\n",
            "20 18 640 980\n",
            "21 18 960 980\n",
            "22 18 1280 980\n",
            "23 18 1600 980\n",
            "24 18 1920 980\n",
            "/content/drive/My Drive/bazarpython/Cria_arquivo/Agrupado_Etiquetas/pdf1.png\n"
          ],
          "name": "stdout"
        }
      ]
    },
    {
      "cell_type": "code",
      "metadata": {
        "id": "z6PzgnblBNIv",
        "colab": {
          "base_uri": "https://localhost:8080/",
          "height": 51
        },
        "outputId": "c8d6db18-ba4f-48e1-d0a8-642ffada5d2a"
      },
      "source": [
        "\n",
        "extensions = ('*.png')\n",
        "pdf = FPDF()\n",
        "imagelist=[]\n",
        "\n",
        "image_directory = '/content/drive/My Drive/bazarpython/Cria_arquivo/Agrupado_Etiquetas/'\n",
        "\n",
        "\n",
        "filelist = [f for f in listdir(image_directory) if isfile(join(image_directory, f))]\n",
        "lista_com_caminho = [image_directory + s for s in filelist]\n",
        "print(lista_com_caminho)\n",
        "print(filelist)\n",
        "nomearquivo = 'Pedro'\n",
        "\n"
      ],
      "execution_count": null,
      "outputs": [
        {
          "output_type": "stream",
          "text": [
            "['/content/drive/My Drive/bazarpython/Cria_arquivo/Agrupado_Etiquetas/pdf1.png']\n",
            "['pdf1.png']\n"
          ],
          "name": "stdout"
        }
      ]
    },
    {
      "cell_type": "markdown",
      "metadata": {
        "id": "f8TTtjU4Nwvc"
      },
      "source": [
        "Gera o PDF para impressão a partir do PNG agrupado das etiquetas.\n"
      ]
    },
    {
      "cell_type": "markdown",
      "metadata": {
        "id": "BLATsm9szPOe"
      },
      "source": [
        ""
      ]
    },
    {
      "cell_type": "code",
      "metadata": {
        "id": "r7XzuIe3BAwQ",
        "colab": {
          "base_uri": "https://localhost:8080/",
          "height": 34
        },
        "outputId": "0f198069-52e3-446e-badd-59015c67b0d3"
      },
      "source": [
        "\n",
        "image_directory = '/content/drive/My Drive/bazarpython/Cria_arquivo/PDF/'\n",
        "for imageFile in lista_com_caminho:\n",
        "    cover = Image.open(imageFile)\n",
        "    width, height = cover.size\n",
        "\n",
        "    # convert pixel in mm with 1px=0.264583 mm\n",
        "    width, height = float(width * 0.264583), float(height * 0.264583)\n",
        "\n",
        "    # given we are working with A4 format size \n",
        "    pdf_size = {'P': {'w': 210, 'h': 297}, 'L': {'w': 297, 'h': 210}}\n",
        "\n",
        "    # get page orientation from image size \n",
        "    orientation = 'P' if width < height else 'L'\n",
        "\n",
        "    #  make sure image size is not greater than the pdf format size\n",
        "    width = width if width < pdf_size[orientation]['w'] else pdf_size[orientation]['w']\n",
        "    height = height if height < pdf_size[orientation]['h'] else pdf_size[orientation]['h']\n",
        "\n",
        "    pdf.add_page(orientation=orientation)\n",
        "\n",
        "    pdf.image(imageFile, 0, 0, width, height)\n",
        "pdf.output(image_directory + \"Pedro.pdf\", \"F\")\n"
      ],
      "execution_count": null,
      "outputs": [
        {
          "output_type": "execute_result",
          "data": {
            "text/plain": [
              "''"
            ]
          },
          "metadata": {
            "tags": []
          },
          "execution_count": 143
        }
      ]
    }
  ]
}